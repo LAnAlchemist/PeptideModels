{
 "cells": [
  {
   "cell_type": "markdown",
   "metadata": {},
   "source": [
    "# Model Training and Evaluation \n",
    "\n",
    "This notebook provides a training guide for the ensemble of deep multitask neural networks\n",
    "described in our paper. \n",
    "\n",
    "By default, the training is performed using the provided dataset of human GCG/GLP-1 analogs, however, below we describe how to train using your own dataset."
   ]
  },
  {
   "cell_type": "markdown",
   "metadata": {},
   "source": [
    "## Imports"
   ]
  },
  {
   "cell_type": "code",
   "execution_count": null,
   "metadata": {},
   "outputs": [],
   "source": [
    "from pathlib import Path\n",
    "import warnings\n",
    "from peptide_models.train_main import main\n",
    "\n",
    "warnings.filterwarnings('ignore')"
   ]
  },
  {
   "cell_type": "markdown",
   "metadata": {},
   "source": [
    "## To train the enesamble of deep multi-task neural network models with your own dataset please follow to the steps (1- 3) and run the code cells below. \n",
    "\n",
    "### 1) Please update the data path to reflect the location of your training data file. For instance:\n",
    "\n",
    "``data_path = Path('../data/<my_training_data.xlsx>')``\n",
    "\n",
    "### 2) Please be aware that the data should be stored in an Excel spreadsheet format, using the '.xlsx' exension, and organised as follows:\n",
    "- __column 1: header - alias__ \n",
    "column with names of your molecules (string)\n",
    "- __column 2: header - sequence__\n",
    "amino acid sequences of your molecules (string) \n",
    "- __column 3: header - EC50_LOG_T1__\n",
    "1st target values in the log scale (float)\n",
    "- __column 4: header - EC50_LOG_T2__\n",
    "2nd target values in the log scale (float)\n",
    "\n",
    "### 3) Please modify the output path to designate where your training results, including the models, will be saved. For instance:\n",
    "\n",
    "``output_path = Path('../my_results', 'training')`` \n"
   ]
  },
  {
   "cell_type": "code",
   "execution_count": null,
   "metadata": {},
   "outputs": [],
   "source": [
    "# Path to the training dataset\n",
    "data_path = Path('../data/training_data.xlsx')\n",
    "# Path to store the trained models and training metadata\n",
    "output_path = Path('../results', 'training')"
   ]
  },
  {
   "cell_type": "markdown",
   "metadata": {},
   "source": [
    "## Default Configuration\n",
    "\n",
    "Please note that the default configuration of the ensemble includes 12 multi-task neural network models, and the training outcomes undergo 6-fold cross validation to ensure robustness and reliability.\n",
    "\n",
    "## Training Duration \n",
    "\n",
    "It's important to note that the training of the model on the provided dataset which consists of 125 human GCG/GLP-1 analogs is estimated to take approximately 2 hours on a processor with specifications 2.3 GHz 8-Core Intel Core i9."
   ]
  },
  {
   "cell_type": "code",
   "execution_count": null,
   "metadata": {},
   "outputs": [],
   "source": [
    "main(out_path=output_path,training_data_path=data_path, seed=21)"
   ]
  }
 ],
 "metadata": {
  "kernelspec": {
   "display_name": "Python [conda env:PeptideModels] *",
   "language": "python",
   "name": "conda-env-PeptideModels-py"
  },
  "language_info": {
   "codemirror_mode": {
    "name": "ipython",
    "version": 3
   },
   "file_extension": ".py",
   "mimetype": "text/x-python",
   "name": "python",
   "nbconvert_exporter": "python",
   "pygments_lexer": "ipython3",
   "version": "3.8.19"
  }
 },
 "nbformat": 4,
 "nbformat_minor": 4
}
