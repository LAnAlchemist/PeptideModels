{
 "cells": [
  {
   "cell_type": "markdown",
   "metadata": {},
   "source": [
    "# Predicting Potency for human GCGR/GLP-1 Receptors Using a Pre-Trained Ensemble\n",
    "\n",
    "This notebook offers a trutorial on how to use a pre-trained enesamble of muli-task neural network models to predict potencies."
   ]
  },
  {
   "cell_type": "markdown",
   "metadata": {},
   "source": [
    "## Imports"
   ]
  },
  {
   "cell_type": "code",
   "execution_count": null,
   "metadata": {},
   "outputs": [],
   "source": [
    "import time\n",
    "from pathlib import Path\n",
    "\n",
    "import numpy as np\n",
    "import pandas as pd\n",
    "from Bio import SeqIO\n",
    "from keras.models import load_model\n",
    "from Bio.SeqRecord import SeqRecord\n",
    "from Bio.Seq import Seq\n",
    "import warnings\n",
    "\n",
    "from keras.models import load_model\n",
    "\n",
    "from peptide_models.aminoacids import AMINOACIDS\n",
    "from peptide_models.peptide import Peptide\n",
    "from peptide_models.utils_models import get_models\n",
    "from peptide_models.utils_data import pep2fasta\n",
    "from peptide_models.predict_main import main\n",
    "from peptide_models.utils_plotting import get_plot\n",
    "\n",
    "warnings.filterwarnings(\"ignore\")"
   ]
  },
  {
   "cell_type": "markdown",
   "metadata": {},
   "source": [
    "## Load pre-trained models"
   ]
  },
  {
   "cell_type": "code",
   "execution_count": null,
   "metadata": {},
   "outputs": [],
   "source": [
    "path_to_models = Path('../models')\n",
    "print(\"Loading models ...\")\n",
    "ensemble = get_models(path_models=path_to_models)"
   ]
  },
  {
   "cell_type": "markdown",
   "metadata": {},
   "source": [
    "## Examples"
   ]
  },
  {
   "cell_type": "markdown",
   "metadata": {},
   "source": [
    "## 1. Predict potencies against human GCGR/GLP-1R receptors for dummy data using a pre-trained ensemble"
   ]
  },
  {
   "cell_type": "markdown",
   "metadata": {},
   "source": [
    "### Generate a set of random peptide sequences"
   ]
  },
  {
   "cell_type": "code",
   "execution_count": null,
   "metadata": {},
   "outputs": [],
   "source": [
    "def get_random_seqs(n_samples=100, length_seq=30):\n",
    "    \"\"\"\n",
    "    Get random sequences for testing \n",
    "    :param n_samples: \n",
    "    :return: \n",
    "    \"\"\"\n",
    "    samples = []\n",
    "    for i in range(n_samples):\n",
    "        samples.append(\"\".join(np.random.choice([a.letter for a in AMINOACIDS],\n",
    "                                        size=length_seq,\n",
    "                                        replace=True)))\n",
    "    return samples"
   ]
  },
  {
   "cell_type": "code",
   "execution_count": null,
   "metadata": {},
   "outputs": [],
   "source": [
    "seqs = get_random_seqs()"
   ]
  },
  {
   "cell_type": "code",
   "execution_count": null,
   "metadata": {},
   "outputs": [],
   "source": [
    "# Instantiate peptide objects \n",
    "random_peptides = []\n",
    "for idx in range(len(seqs)):\n",
    "    peptide = Peptide(alias='test_set',\n",
    "                      ec_50A=None,\n",
    "                      ec_50B=None,\n",
    "                      name=idx,\n",
    "                      sequence=seqs[idx],\n",
    "                      c_term=True)\n",
    "    random_peptides.append(peptide)"
   ]
  },
  {
   "cell_type": "markdown",
   "metadata": {},
   "source": [
    "### Save FASTA file with dummy peptide sequences "
   ]
  },
  {
   "cell_type": "code",
   "execution_count": null,
   "metadata": {},
   "outputs": [],
   "source": [
    "if not Path('../data/FASTA_files/dummy_data').exists():\n",
    "    Path('../data/FASTA_files/dummy_data').mkdir(parents=True)\n",
    "    print('Created path to store data.')\n",
    "    \n",
    "    pep2fasta(peptides_list=random_peptides,\n",
    "              output_path=Path('../data/FASTA_files/dummy_data'),\n",
    "              dataset_name='random_peptides')"
   ]
  },
  {
   "cell_type": "code",
   "execution_count": null,
   "metadata": {},
   "outputs": [],
   "source": [
    "for pep in random_peptides:\n",
    "    pep.predict_potency(infers=ensemble)\n",
    "\n",
    "for i, p in enumerate(random_peptides):\n",
    "    print(f'Random peptide:{i}, predicted potency at GCGCR:{p.ec_50A.round(2)}', \n",
    "          f'predicted potenct at GLP-1R:{p.ec_50B.round(2)}')"
   ]
  },
  {
   "cell_type": "markdown",
   "metadata": {},
   "source": [
    "## 2. Predict potencies against human GCGR/GLP-1R receptors for training set sequences using a pre-trained ensemble"
   ]
  },
  {
   "cell_type": "markdown",
   "metadata": {},
   "source": [
    "### Load training data "
   ]
  },
  {
   "cell_type": "code",
   "execution_count": null,
   "metadata": {},
   "outputs": [],
   "source": [
    "data_path = Path('../data/training_data.xlsx')"
   ]
  },
  {
   "cell_type": "code",
   "execution_count": null,
   "metadata": {},
   "outputs": [],
   "source": [
    "dataset = pd.read_excel(str(data_path), index_col=0, header=0, skiprows=0, sheet_name='dataset')\n",
    "msa = pd.read_excel(str(data_path), index_col=0, header=0, skiprows=0, sheet_name='alignment')"
   ]
  },
  {
   "cell_type": "code",
   "execution_count": null,
   "metadata": {},
   "outputs": [],
   "source": [
    "# Get training peptides\n",
    "training_peptides = []\n",
    "for idx in range(len(dataset)):\n",
    "    pep_record = dataset.iloc[idx]\n",
    "    peptide = Peptide(alias=pep_record.alias,\n",
    "                      ec_50A=pep_record.EC50_LOG_T1,\n",
    "                      ec_50B=pep_record.EC50_LOG_T2,\n",
    "                      name=idx,\n",
    "                      sequence=msa.iloc[idx].sequence,\n",
    "                      c_term=True)\n",
    "    training_peptides.append(peptide)"
   ]
  },
  {
   "cell_type": "code",
   "execution_count": null,
   "metadata": {},
   "outputs": [],
   "source": [
    "# True values of potency measured for training peptides\n",
    "y_true = np.asarray([[p.ec_50A for p in training_peptides], [p.ec_50B for p in training_peptides]])"
   ]
  },
  {
   "cell_type": "code",
   "execution_count": null,
   "metadata": {},
   "outputs": [],
   "source": [
    "# Remove the true potencies\n",
    "training_peptides = []\n",
    "for idx in range(len(dataset)):\n",
    "    pep_record = dataset.iloc[idx]\n",
    "    peptide = Peptide(alias=pep_record.alias,\n",
    "                      ec_50A=None,\n",
    "                      ec_50B=None,\n",
    "                      name=idx,\n",
    "                      sequence=msa.iloc[idx].sequence,\n",
    "                      c_term=True)\n",
    "    training_peptides.append(peptide)"
   ]
  },
  {
   "cell_type": "code",
   "execution_count": null,
   "metadata": {},
   "outputs": [],
   "source": [
    "# Predict the potencies for training set sequences \n",
    "for pep in training_peptides:\n",
    "    pep.predict_potency(infers=ensemble)\n",
    "\n",
    "for i, p in enumerate(training_peptides):\n",
    "    print(f'Training peptide:{i}, predicted potency at GCGCR:{p.ec_50A.round(2)}', \n",
    "          f'predicted potenct at GLP-1R:{p.ec_50B.round(2)}')"
   ]
  },
  {
   "cell_type": "code",
   "execution_count": null,
   "metadata": {},
   "outputs": [],
   "source": [
    "# Plot predicted potencies for training peptides\n",
    "y_predicted = np.asarray([[p.ec_50A for p in training_peptides],[p.ec_50B for p in training_peptides]])"
   ]
  },
  {
   "cell_type": "code",
   "execution_count": null,
   "metadata": {},
   "outputs": [],
   "source": [
    "if not Path('../results/predictions/').exists():\n",
    "    Path('../results/predictions/').mkdir(parents=True)\n",
    "    print('Created path to store data.')\n",
    "get_plot(y_pred=y_predicted, y_test=y_true, path_to_figs='../results/predictions/', name='training_data')"
   ]
  },
  {
   "cell_type": "markdown",
   "metadata": {},
   "source": [
    "# Predicting Potency for human GCGR/GLP-1 Receptors Using a Pre-Trained Ensemble\n",
    "\n",
    "Please specify the path to the folder with FASTA files below.\n",
    "\n",
    "### Requirements: \n",
    "\n",
    "- Sequence Data Format: Please ensure that the sequence data intended for prediction is stored in __FASTA__ format.\n",
    "\n",
    "- Sequence Length: Each sequence must consists of exactly __30__ amino acids (characters)."
   ]
  },
  {
   "cell_type": "markdown",
   "metadata": {},
   "source": [
    "### In the example below, we predict for 288 natural __glucagon and GLP-1 orthologous sequences from various organisms__ collected from the [__NCBI database__](https://www.ncbi.nlm.nih.gov).\n",
    "\n",
    "Please ensure that the __out_path__ is empty before running."
   ]
  },
  {
   "cell_type": "code",
   "execution_count": null,
   "metadata": {},
   "outputs": [],
   "source": [
    "path_to_models = Path('../models')\n",
    "#Path to yout data\n",
    "data_path = Path('../data/FASTA_files/NCBI_data')\n",
    "#Path to save your prediction results\n",
    "out_path = Path('../results/predictions/NCBI_data')"
   ]
  },
  {
   "cell_type": "code",
   "execution_count": null,
   "metadata": {},
   "outputs": [],
   "source": [
    "main(models_path=path_to_models,\n",
    "     output_path=out_path,\n",
    "     data_folder=data_path)"
   ]
  },
  {
   "cell_type": "markdown",
   "metadata": {},
   "source": [
    "### The software output is an Excel spreadsheet with the predictions."
   ]
  },
  {
   "cell_type": "code",
   "execution_count": null,
   "metadata": {},
   "outputs": [],
   "source": [
    "#Load the saved file from the output folder\n",
    "pd.read_excel('../results/predictions/NCBI_data/GLP1.xlsx', index_col=0, header=0, skiprows=0)"
   ]
  }
 ],
 "metadata": {
  "kernelspec": {
   "display_name": "Python [conda env:PeptideModels] *",
   "language": "python",
   "name": "conda-env-PeptideModels-py"
  },
  "language_info": {
   "codemirror_mode": {
    "name": "ipython",
    "version": 3
   },
   "file_extension": ".py",
   "mimetype": "text/x-python",
   "name": "python",
   "nbconvert_exporter": "python",
   "pygments_lexer": "ipython3",
   "version": "3.8.19"
  }
 },
 "nbformat": 4,
 "nbformat_minor": 4
}
